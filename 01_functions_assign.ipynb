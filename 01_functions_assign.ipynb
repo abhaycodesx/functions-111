{
 "cells": [
  {
   "cell_type": "markdown",
   "id": "42edd49a",
   "metadata": {},
   "source": [
    "# Theory questions :"
   ]
  },
  {
   "cell_type": "markdown",
   "id": "7dadcdc7",
   "metadata": {},
   "source": [
    "1. What is the difference between a function and a method in Python?\n",
    "\n",
    "   Ans 1 . \n",
    "\n",
    "    function:\n",
    "\n",
    "        function are  block of code which do specific tasks .\n",
    "        we can call function by there function name.\n",
    "    \n",
    "    module:\n",
    "\n",
    "        module are a kind of functions which are made on object.\n",
    "        if we need to call module then we will use object name with dot."
   ]
  },
  {
   "cell_type": "markdown",
   "id": "86e03857",
   "metadata": {},
   "source": [
    "2. Explain the concept of function arguments and parameters in Python.\n",
    "   Ans 2.\n",
    "    \n",
    "    parameters : \n",
    "\n",
    "        This are those value which we passed when we create a function.\n",
    "\n",
    "    argumnets :\n",
    "\n",
    "        This are those value which we give when we called the function.\n",
    " "
   ]
  },
  {
   "cell_type": "markdown",
   "id": "e7fd9aa2",
   "metadata": {},
   "source": [
    "3. What are the different ways to define and call a function in Python?\n",
    "   \n",
    "   Ans 3. \n",
    "\n",
    "   DIFFERENT WAYS TO DEFINE FUNCTIONS :\n",
    "    \n",
    "   1.> Regular function using def keywords.\n",
    "\n",
    "   2.> Functions with default parameters.\n",
    "\n",
    "   3.> Functions with *args.\n",
    "\n",
    "   4.> Functions with **kwargs.\n",
    "\n",
    "   5.> Anonymous function or lambda functions.\n",
    "\n",
    "   6.> Functions inside other functions or we say nested functions.\n",
    "\n",
    "   7.> Function as a part of the class.\n",
    "\n",
    "   8.> Partial function using functools.partial\n",
    "\n",
    "   9.> Using def to define generator functions.\n",
    "\n",
    "   DIFFERENT WAYS TO CALL AN FUNCTIONS :\n",
    "\n",
    "   1.> NO argument.\n",
    "   \n",
    "   2.> With positional arguments.\n",
    "   \n",
    "   3.> Keywords arguments.\n",
    "   \n",
    "   4.> Default arguments.\n",
    "   \n",
    "   5.> Variable positional arguments.\n",
    "   \n",
    "   6.> Variable keywords arguments.\n",
    "   \n",
    "   7.> Calling a functions returned by other functions.\n",
    "   \n",
    "   8.> Calling Lambda functions.\n",
    "   \n",
    "   9.> Calling functions tied with objects.\n",
    "   \n",
    "   10.> Calling functions with arguments unpacking.\n",
    "   \n",
    "   \n",
    "\n",
    "    "
   ]
  },
  {
   "cell_type": "markdown",
   "id": "cf65c242",
   "metadata": {},
   "source": [
    "4. What is the purpose of the `return` statement in a Python function?\n",
    "\n",
    "   Ans 4.\n",
    "    \n",
    "    return is used to send the value to the place where function was called."
   ]
  },
  {
   "cell_type": "markdown",
   "id": "daabfdf0",
   "metadata": {},
   "source": [
    "5. What are iterators in Python and how do they differ from iterables?\n",
    "\n",
    "   Ans 5.>\n",
    "\n",
    "    iterators : this are those which are capable of returning one value\n",
    "                at a time. like list, set,tuple\n",
    "\n",
    "    iterables : this are those which are created from an object of \n",
    "                iterators. "
   ]
  },
  {
   "cell_type": "markdown",
   "id": "8215f2f4",
   "metadata": {},
   "source": [
    "6. Explain the concept of generators in Python and how they are defined.\n",
    " \n",
    "   Ans 6.> generators are an special kind of functions which are used with \n",
    "           yield keywords.\n",
    "\n",
    "           def function_name(parmeters):\n",
    "\n",
    "                for i in parametrs:\n",
    "                        yield i "
   ]
  },
  {
   "cell_type": "markdown",
   "id": "c119a5d3",
   "metadata": {},
   "source": [
    "7. What are the advantages of using generators over regular functions?\n",
    "\n",
    "   Ans7.> \n",
    "\n",
    "    Generator have advantage that it didn't end function like regular functions.\n",
    "    Generator pause the function at current place then save the output and then\n",
    "    move forward in next call. "
   ]
  },
  {
   "cell_type": "markdown",
   "id": "85fa90eb",
   "metadata": {},
   "source": [
    "8. What is a lambda function in Python and when is it typically used?\n",
    "\n",
    "   Ans8. lambda is a kind of functions which are short and have no any name like\n",
    "         anonymous function. \n",
    "         lamda is used when we need temperory function and in one linear.\n",
    "         lamda is used mainly with map, reduce , filter also."
   ]
  },
  {
   "cell_type": "markdown",
   "id": "4e8e74fa",
   "metadata": {},
   "source": [
    "9. Explain the purpose and usage of the `map()` function in Python.\n",
    "    \n",
    "   Ans9. map() is an kind of function in which we apply a paritcular function\n",
    "         on all the elements of iterable objects."
   ]
  },
  {
   "cell_type": "markdown",
   "id": "9365ce4a",
   "metadata": {},
   "source": [
    "10. What is the difference between `map()`, `reduce()`, and `filter()` functions in Python?\n",
    "\n",
    "    Ans10. \n",
    "     \n",
    "     map() -> map is an type of function which apply a particular type of \n",
    "              function to all the elements of an iterable .\n",
    "     \n",
    "     reduce() -> reduce is a type of function which fold all the elements of\n",
    "                iterable and give one single output value.\n",
    "     \n",
    "     filter() -> filter is a kind of function in which on the bases of particular\n",
    "                 condition it filter elements of iterables if condition is true then element will keep in output and if condition is false then it will remove element from output ."
   ]
  },
  {
   "cell_type": "markdown",
   "id": "19047b8e",
   "metadata": {},
   "source": [
    "11. Using pen & Paper write the internal mechanism for sum operation using  reduce function on this given  list:[47,11,42,13]; "
   ]
  },
  {
   "cell_type": "markdown",
   "id": "20d26d9d",
   "metadata": {},
   "source": [
    "# Practical questions : "
   ]
  },
  {
   "cell_type": "markdown",
   "id": "1dd2e585",
   "metadata": {},
   "source": [
    "1. Write a Python function that takes a list of numbers as input and returns the sum of all even numbers in \n",
    "the list"
   ]
  },
  {
   "cell_type": "code",
   "execution_count": 1,
   "id": "831ba9d9",
   "metadata": {},
   "outputs": [
    {
     "name": "stdout",
     "output_type": "stream",
     "text": [
      "Answer 1.> \n",
      "\n",
      "The sum of all the even numbers from list is : 66\n"
     ]
    }
   ],
   "source": [
    "print(\"Answer 1.> \")\n",
    "\n",
    "print()\n",
    "\n",
    "def sum_even_num(list_num):\n",
    "\n",
    "    sum = 0\n",
    "\n",
    "    for i in list_num:\n",
    "        if i%2 == 0:\n",
    "            sum = sum + i\n",
    "    return sum\n",
    "\n",
    "list_num = [11,22,33,44,55]\n",
    "output = sum_even_num(list_num)\n",
    "print(f\"The sum of all the even numbers from list is : {output}\")"
   ]
  },
  {
   "cell_type": "markdown",
   "id": "9ad73aef",
   "metadata": {},
   "source": [
    "2. Create a Python function that accepts a string and returns the reverse of that string."
   ]
  },
  {
   "cell_type": "code",
   "execution_count": 2,
   "id": "87d7e317",
   "metadata": {},
   "outputs": [
    {
     "name": "stdout",
     "output_type": "stream",
     "text": [
      "Answer 2\n",
      "\n",
      "The reverse of the given string is : vadayyahba\n"
     ]
    }
   ],
   "source": [
    "print(\"Answer 2\")\n",
    "\n",
    "print()\n",
    "\n",
    "def reverse_string(str_input):\n",
    "\n",
    "    output_str = \"\"\n",
    "\n",
    "    for i in range(len(str_input)-1,0,-1):\n",
    "\n",
    "        ind = i%len(str_input)\n",
    "        output_str = output_str + str_input[ind]\n",
    "\n",
    "    output_str = output_str + str_input[0]\n",
    "    return output_str\n",
    "\n",
    "\n",
    "str_input = \"abhayyadav\"\n",
    "output = reverse_string(str_input)\n",
    "\n",
    "print(f\"The reverse of the given string is : {output}\")"
   ]
  },
  {
   "cell_type": "markdown",
   "id": "09c8b0c8",
   "metadata": {},
   "source": [
    "3. Implement a Python function that takes a list of integers and returns a new list containing the squares of each number."
   ]
  },
  {
   "cell_type": "code",
   "execution_count": 3,
   "id": "2403d730",
   "metadata": {},
   "outputs": [
    {
     "name": "stdout",
     "output_type": "stream",
     "text": [
      "Answer 3.> \n",
      "\n",
      "The square of given numbers of list are : \n",
      "[25, 36, 49, 64, 81]\n"
     ]
    }
   ],
   "source": [
    "print(\"Answer 3.> \")\n",
    "\n",
    "print()\n",
    "\n",
    "list_num = [5,6,7,8,9]\n",
    "\n",
    "output = list(map(lambda x:x**2, list_num))\n",
    "\n",
    "print(\"The square of given numbers of list are : \")\n",
    "print(output)"
   ]
  },
  {
   "cell_type": "markdown",
   "id": "8b136aa3",
   "metadata": {},
   "source": [
    "4. Write a Python function that checks if a given number is prime or not from 1 to 200.\n"
   ]
  },
  {
   "cell_type": "code",
   "execution_count": 4,
   "id": "bb852cb7",
   "metadata": {},
   "outputs": [
    {
     "name": "stdout",
     "output_type": "stream",
     "text": [
      "Answer 4.> \n",
      "\n",
      "The given nummber 53 is a prime . \n"
     ]
    }
   ],
   "source": [
    "print(\"Answer 4.> \")\n",
    "\n",
    "print()\n",
    "\n",
    "def check_prime_or_not(num_given):\n",
    "\n",
    "    flag = False\n",
    "\n",
    "    if num_given == 1:\n",
    "        print(f\"The given number {num_given} is not a prime . \")\n",
    "    elif num_given == 2:\n",
    "        print(f\"The given number {num_given} is a prime . \")\n",
    "    else:\n",
    "        for j in range(2,num_given):\n",
    "            if num_given % j == 0:\n",
    "                flag =  False\n",
    "                break \n",
    "            else:\n",
    "                flag = True\n",
    "            \n",
    "    if flag == False:\n",
    "        print(f\"The given number {num_given} is not a prime . \")\n",
    "    else:\n",
    "        print(f\"The given nummber {num_given} is a prime . \")\n",
    "\n",
    "\n",
    "check_prime_or_not(53)"
   ]
  },
  {
   "cell_type": "markdown",
   "id": "ad8a7845",
   "metadata": {},
   "source": [
    "5. Create an iterator class in Python that generates the Fibonacci sequence up to a specified number of terms"
   ]
  },
  {
   "cell_type": "code",
   "execution_count": 5,
   "id": "95c8c513",
   "metadata": {},
   "outputs": [
    {
     "name": "stdout",
     "output_type": "stream",
     "text": [
      "Answer 5.> \n",
      "\n",
      "0  1  1  2  3  5  8  13  21  34  "
     ]
    }
   ],
   "source": [
    "print(\"Answer 5.> \")\n",
    "\n",
    "print()\n",
    "\n",
    "class fibo_iter_class:\n",
    "\n",
    "    def __init__(self, num_terms):\n",
    "\n",
    "        self.num_terms = num_terms\n",
    "        self.count = 0\n",
    "        self.a = 0\n",
    "        self.b = 1\n",
    "    \n",
    "    def __iter__ (self):\n",
    "        return self\n",
    "    \n",
    "    def __next__(self):\n",
    "        if self.count >= self.num_terms:\n",
    "            raise StopIteration\n",
    "        \n",
    "        if self.count ==0:\n",
    "            self.count += 1\n",
    "            return self.a\n",
    "        elif self.count == 1:\n",
    "            self.count +=1\n",
    "            return self.b\n",
    "        else:\n",
    "            self.a , self.b = self.b, self.a + self.b\n",
    "            self.count += 1\n",
    "            return self.b\n",
    "        \n",
    "\n",
    "fibo_num = fibo_iter_class(10)\n",
    "\n",
    "for num_i in fibo_num:\n",
    "    print(num_i,end=\"  \")"
   ]
  },
  {
   "cell_type": "markdown",
   "id": "05323e1d",
   "metadata": {},
   "source": [
    "6. Write a generator function in Python that yields the powers of 2 up to a given exponent."
   ]
  },
  {
   "cell_type": "code",
   "execution_count": 6,
   "id": "e43ad140",
   "metadata": {},
   "outputs": [
    {
     "name": "stdout",
     "output_type": "stream",
     "text": [
      "Answer 6.>\n",
      "\n",
      "0\n",
      "1\n",
      "4\n",
      "9\n",
      "16\n",
      "25\n",
      "36\n",
      "49\n"
     ]
    }
   ],
   "source": [
    "print(\"Answer 6.>\")\n",
    "\n",
    "print()\n",
    "\n",
    "def power_2(num_value):\n",
    "\n",
    "    for i in range(num_value):\n",
    "        yield i**2\n",
    "\n",
    "output_power = power_2(8)\n",
    "\n",
    "print(next(output_power))\n",
    "print(next(output_power))\n",
    "print(next(output_power))\n",
    "print(next(output_power))\n",
    "print(next(output_power))\n",
    "print(next(output_power))\n",
    "print(next(output_power))\n",
    "print(next(output_power))"
   ]
  },
  {
   "cell_type": "markdown",
   "id": "6ca102dd",
   "metadata": {},
   "source": [
    "7. Implement a generator function that reads a file line by line and yields each line as a string. "
   ]
  },
  {
   "cell_type": "markdown",
   "id": "c8d76175",
   "metadata": {},
   "source": [
    "    print(\"Answer 7.> \")\n",
    "\n",
    "    print()\n",
    "\n",
    "    def read_file_line_by_line(file_path):\n",
    "\n",
    "        try :\n",
    "            with open(file_path, \"r\") as file:\n",
    "                for line in file:\n",
    "                    yield line.strip()\n",
    "        except FileNotFoundError:\n",
    "            yield \"Error file not found\"\n",
    "\n",
    "\n",
    "    for line in read_file_line_by_line(\"C:\\\\Users\\\\dell\\\\Desktop\\\\for_generative_AI.txt\"):\n",
    "        print(line) \n",
    "\n"
   ]
  },
  {
   "cell_type": "code",
   "execution_count": 7,
   "id": "0f456b5b",
   "metadata": {},
   "outputs": [],
   "source": [
    "# print(\"Answer 7.> \")\n",
    "\n",
    "# print()\n",
    "\n",
    "# def read_file_line_by_line(file_path):\n",
    "\n",
    "#     try :\n",
    "#         with open(file_path, \"r\") as file:\n",
    "#             for line in file:\n",
    "#                 yield line.strip()\n",
    "#     except FileNotFoundError:\n",
    "#         yield \"Error file not found\"\n",
    "\n",
    "\n",
    "# for line in read_file_line_by_line(\"C:\\\\Users\\\\dell\\\\Desktop\\\\for_generative_AI.txt\"):\n",
    "#     print(line) \n",
    "\n"
   ]
  },
  {
   "cell_type": "markdown",
   "id": "b65f2d17",
   "metadata": {},
   "source": [
    "8. Use a lambda function in Python to sort a list of tuples based on the second element of each tuple. "
   ]
  },
  {
   "cell_type": "code",
   "execution_count": 8,
   "id": "619533f6",
   "metadata": {},
   "outputs": [
    {
     "name": "stdout",
     "output_type": "stream",
     "text": [
      "Answer 8.> \n",
      "\n",
      "Sortind list of tuples according to second element : \n",
      "[(1, 2, 3, 4), (22, 6, 13, 14), (8, 9, 7, 6), (22, 9, 23, 24), (10, 11, 12, 13)]\n"
     ]
    }
   ],
   "source": [
    "print(\"Answer 8.> \")\n",
    "\n",
    "print()\n",
    "\n",
    "list_of_tuple = [(10,11,12,13),(8,9,7,6),(1,2,3,4),(22,6,13,14),(22,9,23,24)]\n",
    "\n",
    "sorted_according_to_second_element = sorted(list_of_tuple, key = lambda x:x[1])\n",
    "\n",
    "print(\"Sortind list of tuples according to second element : \")\n",
    "print(sorted_according_to_second_element)\n"
   ]
  },
  {
   "cell_type": "markdown",
   "id": "113b172f",
   "metadata": {},
   "source": [
    "9. Write a Python program that uses `map()` to convert a list of temperatures from Celsius to Fahrenheit. "
   ]
  },
  {
   "cell_type": "code",
   "execution_count": 9,
   "id": "99a468e9",
   "metadata": {},
   "outputs": [
    {
     "name": "stdout",
     "output_type": "stream",
     "text": [
      "Answer 9.> \n",
      "\n",
      "The coverting of temperature from celcius to faherinte is this : \n",
      "[41.0, 42.980000000000004, 47.462, 49.982, 39.99992]\n"
     ]
    }
   ],
   "source": [
    "print(\"Answer 9.> \")\n",
    "\n",
    "print()\n",
    "\n",
    "def celcius_fahrenheit(celcius):\n",
    "\n",
    "    fahren = (9/5)*celcius+32\n",
    "    return fahren\n",
    "\n",
    "\n",
    "celcius_temperatur_list = [5,6.1,8.59,9.99,4.4444]\n",
    "output = map(celcius_fahrenheit, celcius_temperatur_list)\n",
    "print(\"The coverting of temperature from celcius to faherinte is this : \")\n",
    "print(list(output))"
   ]
  },
  {
   "cell_type": "markdown",
   "id": "848da840",
   "metadata": {},
   "source": [
    "10. Create a Python program that uses `filter()` to remove all the vowels from a given string."
   ]
  },
  {
   "cell_type": "code",
   "execution_count": 10,
   "id": "1fc56db9",
   "metadata": {},
   "outputs": [
    {
     "name": "stdout",
     "output_type": "stream",
     "text": [
      "Answer 10.> \n",
      "\n",
      "The string without vowels is this :  sgb\n"
     ]
    }
   ],
   "source": [
    "print(\"Answer 10.> \")\n",
    "print()\n",
    "\n",
    "def remove_vowels(str_str):\n",
    "    \n",
    "    str_without_vowels = \"\"\n",
    "\n",
    "    for i in str_str:\n",
    "        if i not in [\"a\",\"e\",\"i\",\"o\",\"u\",\"A\",\"E\",\"I\",\"O\",\"U\"]:\n",
    "            str_without_vowels = str_without_vowels + i\n",
    "\n",
    "\n",
    "    return str_without_vowels\n",
    "\n",
    "output = \"\".join(filter(remove_vowels,\"aeiousaeiougaeioub\"))\n",
    "print(\"The string without vowels is this : \",output)"
   ]
  },
  {
   "cell_type": "markdown",
   "id": "4aacc2f7",
   "metadata": {},
   "source": [
    "11) Imagine an accounting routine used in a book shop. It works on a list with sublists, which look like this:\n",
    "Write a Python program, which returns a list with 2-tuples. Each tuple consists of the order number and the \n",
    "product of the price per item and the quantity. The product should be increased by 10,- € if the value of the \n",
    "order is smaller than 100,00 €.\n",
    " Write a Python program using lambda and map"
   ]
  },
  {
   "cell_type": "code",
   "execution_count": 11,
   "id": "fdef148d",
   "metadata": {},
   "outputs": [
    {
     "name": "stdout",
     "output_type": "stream",
     "text": [
      "Answer 11.> \n",
      "\n",
      "[(34587, 163.8), (98762, 20), (77226, 108.85000000000001), (88112, 84.97)]\n"
     ]
    }
   ],
   "source": [
    "print(\"Answer 11.> \")\n",
    "\n",
    "print()\n",
    "\n",
    "item_item = [[34587,\"book-1st\",4,40.95],[ 98762,\"book-2nd\",2,5, 56.80],[77226,\"book-3rd\",3,32.95,],[88112,\"book-4th\",3,24.99]]\n",
    "\n",
    "output = list(map(lambda item:(item[0],item[2]*item[3] if item[2]*item[3] >= 100 else item[2]*item[3]+10),item_item))\n",
    "\n",
    "print(output)"
   ]
  }
 ],
 "metadata": {
  "kernelspec": {
   "display_name": "Python 3",
   "language": "python",
   "name": "python3"
  },
  "language_info": {
   "codemirror_mode": {
    "name": "ipython",
    "version": 3
   },
   "file_extension": ".py",
   "mimetype": "text/x-python",
   "name": "python",
   "nbconvert_exporter": "python",
   "pygments_lexer": "ipython3",
   "version": "3.12.4"
  }
 },
 "nbformat": 4,
 "nbformat_minor": 5
}
